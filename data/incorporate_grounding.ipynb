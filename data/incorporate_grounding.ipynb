{
 "cells": [
  {
   "cell_type": "code",
   "execution_count": 6,
   "id": "9c17e468-eea0-4880-a790-4cb668d392ee",
   "metadata": {},
   "outputs": [],
   "source": [
    "from collections import defaultdict\n",
    "import os\n",
    "import re\n",
    "\n",
    "import pandas as pd\n",
    "\n",
    "# Initialize central mapping\n",
    "work_id_mapping = defaultdict(lambda: defaultdict(set))"
   ]
  },
  {
   "cell_type": "code",
   "execution_count": 7,
   "id": "ec7b4df3-b9b9-495e-8874-f5576a3caaf5",
   "metadata": {},
   "outputs": [
    {
     "name": "stdout",
     "output_type": "stream",
     "text": [
      "887 754\n"
     ]
    }
   ],
   "source": [
    "# Read GRETIL CSV\n",
    "df = pd.read_csv(\"2025-02-26-gretil-etext-data.csv\")\n",
    "\n",
    "# Populate mapping with GRETIL links\n",
    "i = j = 0\n",
    "for _, row in df.iterrows():\n",
    "    if pd.isna(row['Work ID']) or row['Work ID'] == \"\" or pd.isna(row['GRETIL link text']) or row['GRETIL link text'] == \"\":\n",
    "        continue\n",
    "    i += 1\n",
    "    work_ids = [wid.strip() for wid in re.split(r'[,\\r\\n]+', str(row['Work ID']))]\n",
    "    for work_id in work_ids:\n",
    "        if work_id == \"...\":\n",
    "            continue\n",
    "        j += 1\n",
    "        work_id_mapping[work_id]['GRETIL'].add(row['GRETIL link text'])\n",
    "\n",
    "print(i, j)"
   ]
  },
  {
   "cell_type": "code",
   "execution_count": 3,
   "id": "23b822a2-341c-4f96-9311-0f4cf4e9e6e4",
   "metadata": {},
   "outputs": [],
   "source": [
    "# Function to extend the mapping with a new dataset\n",
    "def extend_mapping(csv_path, source_key):\n",
    "    df_new = pd.read_csv(csv_path)\n",
    "    for _, row in df_new.iterrows():\n",
    "        if pd.isna(row['Work ID']) or row['Work ID'] == \"\" or pd.isna(row[f'{source_key} link']) or row[f'{source_key} link'] == \"\":\n",
    "            continue\n",
    "        work_ids = [wid.strip() for wid in re.split(r'[,\\r\\n]+', str(row['Work ID']))]\n",
    "        for work_id in work_ids:\n",
    "            work_id_mapping[work_id][source_key].add(row[f'{source_key} link'])\n",
    "\n",
    "# Example of extending the mapping with SARIT data\n",
    "# extend_mapping(\"sarit_pandit_grounding.csv\", \"SARIT\")"
   ]
  },
  {
   "cell_type": "code",
   "execution_count": 8,
   "id": "f96faa5c-010a-4cd1-a3dd-8e64e2b5bbd3",
   "metadata": {},
   "outputs": [
    {
     "name": "stdout",
     "output_type": "stream",
     "text": [
      "75 84\n"
     ]
    }
   ],
   "source": [
    "# Read SARIT CSV\n",
    "df = pd.read_csv(\"2025-02-27-sarit-etext-data.csv\")\n",
    "\n",
    "# Populate mapping with GRETIL links\n",
    "i = j = 0\n",
    "for _, row in df.iterrows():\n",
    "    if pd.isna(row['Corroborated Work ID']) or row['Corroborated Work ID'] == \"\" or pd.isna(row['GitHub link text']) or row['GitHub link text'] == \"\":\n",
    "        continue\n",
    "    i += 1\n",
    "    work_ids = [wid.strip() for wid in re.split(r'[,\\r\\n]+', str(row['Corroborated Work ID']))]\n",
    "    for work_id in work_ids:\n",
    "        if work_id == \"...\":\n",
    "            continue\n",
    "        j += 1\n",
    "        work_id_mapping[work_id]['SARIT (GitHub)'].add(row['GitHub link text'])\n",
    "\n",
    "print(i, j)\n",
    "\n"
   ]
  },
  {
   "cell_type": "code",
   "execution_count": 9,
   "id": "f7e739a3-7970-4c56-b9a5-4d5263c0b432",
   "metadata": {},
   "outputs": [],
   "source": [
    "import json\n",
    "\n",
    "# Convert defaultdict(set) to regular dict with lists for JSON serialization\n",
    "def convert_to_serializable(d):\n",
    "    return {k: {sk: list(sv) for sk, sv in v.items()} for k, v in d.items()}\n",
    "\n",
    "output_filename = \"2025-02-27-etext-link-data.json\"\n",
    "output_json_path = os.path.join(output_filename)\n",
    "with open(output_json_path, 'w') as jsonfile:\n",
    "    json.dump(convert_to_serializable(work_id_mapping), jsonfile, indent=4, ensure_ascii=False)\n"
   ]
  },
  {
   "cell_type": "code",
   "execution_count": null,
   "id": "0d176cbc-7721-4e78-8e46-2c133fa1ffd6",
   "metadata": {},
   "outputs": [],
   "source": []
  }
 ],
 "metadata": {
  "kernelspec": {
   "display_name": "Python 3 (ipykernel)",
   "language": "python",
   "name": "python3"
  },
  "language_info": {
   "codemirror_mode": {
    "name": "ipython",
    "version": 3
   },
   "file_extension": ".py",
   "mimetype": "text/x-python",
   "name": "python",
   "nbconvert_exporter": "python",
   "pygments_lexer": "ipython3",
   "version": "3.11.11"
  }
 },
 "nbformat": 4,
 "nbformat_minor": 5
}
